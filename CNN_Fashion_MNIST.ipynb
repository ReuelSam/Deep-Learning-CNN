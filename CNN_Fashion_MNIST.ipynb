{
 "cells": [
  {
   "cell_type": "code",
   "execution_count": 1,
   "metadata": {},
   "outputs": [],
   "source": [
    "# imports\n",
    "\n",
    "import tensorflow as tf\n",
    "from tensorflow.keras import datasets,layers, models\n",
    "import matplotlib.pyplot as plt\n",
    "import matplotlib.image as mpimg\n",
    "import numpy as np\n",
    "from tensorflow.keras.models import Sequential\n",
    "from tensorflow.keras.layers import Conv2D,MaxPool2D,Dense,Flatten,Dropout,Input, AveragePooling2D, Activation,Conv2D, MaxPooling2D, BatchNormalization,Concatenate\n",
    "from tensorflow.keras.callbacks import EarlyStopping, TensorBoard\n",
    "from tensorflow.keras import regularizers, optimizers\n",
    "from tensorflow.keras.preprocessing.image import ImageDataGenerator\n",
    "from tensorflow.keras.utils import to_categorical"
   ]
  },
  {
   "cell_type": "code",
   "execution_count": 11,
   "metadata": {},
   "outputs": [],
   "source": [
    "class FashionMNIST_CNN():\n",
    "    def __init__(self, epochs):\n",
    "        self.class_names = [\"T-shirt/Top\", \"Trouser\", \"Pullover\", \"Dress\", \"Coat\", \\\n",
    "                            \"Sandal\", \"Shirt\", \"Sneaker\", \"Bag\", \"Ankle Boot\"]\n",
    "        self.epochs = epochs\n",
    "        \n",
    "    def fetch_data(self):\n",
    "        dataset = tf.keras.datasets.fashion_mnist.load_data()\n",
    "        (self.train_images, self.train_labels), (self.test_images, self.test_labels) = dataset\n",
    "        self.print_shape()\n",
    "        self.classes = np.unique(self.train_labels)\n",
    "        self.nClasses = len(self.classes)\n",
    "        print(\"Total number of clases: \", self.nClasses)\n",
    "        print(\"Target Classes: \", self.classes)\n",
    "        \n",
    "    def print_shape(self):\n",
    "        print(\"Training Data Shape: \", self.train_images.shape, self.train_labels.shape)\n",
    "        print(\"Testing Data Shape: \", self.test_images.shape, self.test_labels.shape)\n",
    "    \n",
    "    def example_data(self, n):\n",
    "        plt.figure(figsize=(10,10))\n",
    "        for i in range(n):\n",
    "            plt.subplot(5,5,i+1)\n",
    "            plt.xticks([])\n",
    "            plt.yticks([])\n",
    "            plt.grid(False)\n",
    "            plt.imshow(self.train_images[i], cmap=plt.cm.binary)\n",
    "            plt.xlabel(self.class_names[self.train_labels[i]]).set_color('white')\n",
    "        plt.show()\n",
    "        \n",
    "    def model_start(self):\n",
    "        self.preprocess()\n",
    "        self.model_create()\n",
    "        self.model_summary()\n",
    "        var = self.model_compile()\n",
    "        print(\"Model Creation Done\")\n",
    "    \n",
    "    def preprocess(self):\n",
    "        self.train_images = self.train_images.reshape((self.train_images.shape[0], 28, 28, 1))\n",
    "        self.test_images = self.test_images.reshape((self.test_images.shape[0], 28, 28, 1))\n",
    "        nRows, nCols, nDims = self.train_images.shape[1:]\n",
    "        self.train_data = self.train_images.reshape(self.train_images.shape[0], nRows, nCols, nDims)\n",
    "        self.test_data = self.test_images.reshape(self.test_images.shape[0], nRows, nCols, nDims)\n",
    "        self.input_shape = (nRows, nCols, nDims)\n",
    "\n",
    "        self.train_data = self.train_data.astype('float32')\n",
    "        self.test_data = self.test_data.astype('float32')\n",
    "\n",
    "        self.train_data /= 255\n",
    "        self.test_data /= 255\n",
    "\n",
    "        self.train_label_one_hot = to_categorical(self.train_labels)\n",
    "        self.test_label_one_hot = to_categorical(self.test_labels)\n",
    "        \n",
    "    def model_create(self):\n",
    "        self.model = Sequential()\n",
    "        self.model.add(Conv2D(32, (3, 3), activation='relu', kernel_initializer='he_uniform', \\\n",
    "                              padding='same', input_shape=self.input_shape))\n",
    "        self.model.add(BatchNormalization())\n",
    "        self.model.add(Conv2D(32, (3, 3), activation='relu', kernel_initializer='he_uniform', \\\n",
    "                              padding='same'))\n",
    "        self.model.add(BatchNormalization())\n",
    "        self.model.add(MaxPool2D((2, 2)))\n",
    "        \n",
    "        self.model.add(Flatten())\n",
    "        self.model.add(Dense(128, activation='relu', kernel_initializer='he_uniform'))\n",
    "        self.model.add(BatchNormalization())\n",
    "        self.model.add(Dropout(0.5))\n",
    "        self.model.add(Dense(self.nClasses, activation='softmax'))\n",
    "        \n",
    "    def model_summary(self):\n",
    "        self.model.summary()\n",
    "            \n",
    "    def model_compile(self):\n",
    "        opt = optimizers.SGD(lr=0.01, momentum=0.9)\n",
    "        self.model.compile(optimizer=opt, loss='categorical_crossentropy', metrics=['accuracy'])\n",
    "        return 0\n",
    "    \n",
    "    def train(self):\n",
    "        self.history = self.model.fit(self.train_data, self.train_label_one_hot, epochs=self.epochs, \\\n",
    "                                      validation_data=(self.test_data, self.test_label_one_hot))\n",
    "\n",
    "    def model_evaluate(self):\n",
    "        self.test_loss, self.test_acc = self.model.evaluate(self.test_data,  self.test_label_one_hot, verbose=2)\n",
    "\n",
    "        print(\"Test Accuracy: \", self.test_acc)\n",
    "        "
   ]
  },
  {
   "cell_type": "code",
   "execution_count": 12,
   "metadata": {},
   "outputs": [
    {
     "name": "stdout",
     "output_type": "stream",
     "text": [
      "Training Data Shape:  (60000, 28, 28) (60000,)\n",
      "Testing Data Shape:  (10000, 28, 28) (10000,)\n",
      "Total number of clases:  10\n",
      "Target Classes:  [0 1 2 3 4 5 6 7 8 9]\n"
     ]
    }
   ],
   "source": [
    "model = FashionMNIST_CNN(15)\n",
    "model.fetch_data()"
   ]
  },
  {
   "cell_type": "code",
   "execution_count": 13,
   "metadata": {},
   "outputs": [
    {
     "data": {
      "image/png": "[encoded data removed]",
      "text/plain": [
       "<Figure size 720x720 with 15 Axes>"
      ]
     },
     "metadata": {},
     "output_type": "display_data"
    }
   ],
   "source": [
    "model.example_data(15)"
   ]
  },
  {
   "cell_type": "code",
   "execution_count": 14,
   "metadata": {},
   "outputs": [
    {
     "name": "stdout",
     "output_type": "stream",
     "text": [
      "Model: \"sequential\"\n",
      "_________________________________________________________________\n",
      "Layer (type)                 Output Shape              Param #   \n",
      "=================================================================\n",
      "conv2d (Conv2D)              (None, 28, 28, 32)        320       \n",
      "_________________________________________________________________\n",
      "batch_normalization (BatchNo (None, 28, 28, 32)        128       \n",
      "_________________________________________________________________\n",
      "conv2d_1 (Conv2D)            (None, 28, 28, 32)        9248      \n",
      "_________________________________________________________________\n",
      "batch_normalization_1 (Batch (None, 28, 28, 32)        128       \n",
      "_________________________________________________________________\n",
      "max_pooling2d (MaxPooling2D) (None, 14, 14, 32)        0         \n",
      "_________________________________________________________________\n",
      "flatten (Flatten)            (None, 6272)              0         \n",
      "_________________________________________________________________\n",
      "dense (Dense)                (None, 128)               802944    \n",
      "_________________________________________________________________\n",
      "batch_normalization_2 (Batch (None, 128)               512       \n",
      "_________________________________________________________________\n",
      "dropout (Dropout)            (None, 128)               0         \n",
      "_________________________________________________________________\n",
      "dense_1 (Dense)              (None, 10)                1290      \n",
      "=================================================================\n",
      "Total params: 814,570\n",
      "Trainable params: 814,186\n",
      "Non-trainable params: 384\n",
      "_________________________________________________________________\n",
      "Model Creation Done\n"
     ]
    }
   ],
   "source": [
    "model.model_start()"
   ]
  },
  {
   "cell_type": "code",
   "execution_count": 15,
   "metadata": {},
   "outputs": [
    {
     "name": "stdout",
     "output_type": "stream",
     "text": [
      "Train on 60000 samples, validate on 10000 samples\n",
      "Epoch 1/15\n",
      "60000/60000 [==============================] - 14s 240us/sample - loss: 0.4464 - accuracy: 0.8426 - val_loss: 0.4721 - val_accuracy: 0.8517\n",
      "Epoch 2/15\n",
      "60000/60000 [==============================] - 10s 159us/sample - loss: 0.3025 - accuracy: 0.8923 - val_loss: 1.2066 - val_accuracy: 0.6135\n",
      "Epoch 3/15\n",
      "60000/60000 [==============================] - 9s 155us/sample - loss: 0.2757 - accuracy: 0.9019 - val_loss: 0.3739 - val_accuracy: 0.8733\n",
      "Epoch 4/15\n",
      "60000/60000 [==============================] - 9s 157us/sample - loss: 0.2335 - accuracy: 0.9164 - val_loss: 0.2810 - val_accuracy: 0.9053\n",
      "Epoch 5/15\n",
      "60000/60000 [==============================] - 10s 159us/sample - loss: 0.2093 - accuracy: 0.9237 - val_loss: 0.2403 - val_accuracy: 0.9148\n",
      "Epoch 6/15\n",
      "60000/60000 [==============================] - 10s 161us/sample - loss: 0.1959 - accuracy: 0.9294 - val_loss: 0.2752 - val_accuracy: 0.9072\n",
      "Epoch 7/15\n",
      "60000/60000 [==============================] - 10s 161us/sample - loss: 0.1907 - accuracy: 0.9317 - val_loss: 0.2575 - val_accuracy: 0.9094\n",
      "Epoch 8/15\n",
      "60000/60000 [==============================] - 9s 156us/sample - loss: 0.1760 - accuracy: 0.9362 - val_loss: 0.2269 - val_accuracy: 0.9225\n",
      "Epoch 9/15\n",
      "60000/60000 [==============================] - 9s 155us/sample - loss: 0.1601 - accuracy: 0.9419 - val_loss: 0.2536 - val_accuracy: 0.9163\n",
      "Epoch 10/15\n",
      "60000/60000 [==============================] - 9s 155us/sample - loss: 0.1498 - accuracy: 0.9451 - val_loss: 0.2485 - val_accuracy: 0.9190\n",
      "Epoch 11/15\n",
      "60000/60000 [==============================] - 9s 156us/sample - loss: 0.1363 - accuracy: 0.9499 - val_loss: 0.2415 - val_accuracy: 0.9216\n",
      "Epoch 12/15\n",
      "60000/60000 [==============================] - 9s 157us/sample - loss: 0.1283 - accuracy: 0.9531 - val_loss: 0.2402 - val_accuracy: 0.9230\n",
      "Epoch 13/15\n",
      "60000/60000 [==============================] - 10s 159us/sample - loss: 0.1218 - accuracy: 0.9556 - val_loss: 0.9081 - val_accuracy: 0.8943\n",
      "Epoch 14/15\n",
      "60000/60000 [==============================] - 10s 161us/sample - loss: 0.1318 - accuracy: 0.9521 - val_loss: 0.2448 - val_accuracy: 0.9217\n",
      "Epoch 15/15\n",
      "60000/60000 [==============================] - 10s 161us/sample - loss: 0.1302 - accuracy: 0.9519 - val_loss: 0.2658 - val_accuracy: 0.9194\n"
     ]
    }
   ],
   "source": [
    "model.train()"
   ]
  },
  {
   "cell_type": "code",
   "execution_count": 16,
   "metadata": {},
   "outputs": [
    {
     "name": "stdout",
     "output_type": "stream",
     "text": [
      "10000/10000 - 1s - loss: 0.2658 - accuracy: 0.9194\n",
      "Test Accuracy:  0.9194\n"
     ]
    }
   ],
   "source": [
    "model.model_evaluate()"
   ]
  },
  {
   "cell_type": "markdown",
   "metadata": {},
   "source": [
    "Add this to the class\n",
    "```\n",
    "    def predict_new(self, image_path):\n",
    "        img=mpimg.imread(image_path)\n",
    "        ret_class = class_names[self.model.predict(np.expand_dims(img,axis=0)).argmax()]\n",
    "        print(ret_class)\n",
    "        return ret_class\n",
    "    \n",
    "    def model_save(self):\n",
    "        self.model.save('model')\n",
    "        \n",
    "    def model_load(self):\n",
    "        self.model = tf.keras.models.load_model('model')\n",
    "```"
   ]
  },
  {
   "cell_type": "code",
   "execution_count": null,
   "metadata": {},
   "outputs": [],
   "source": []
  }
 ],
 "metadata": {
  "kernelspec": {
   "display_name": "Python 3",
   "language": "python",
   "name": "python3"
  },
  "language_info": {
   "codemirror_mode": {
    "name": "ipython",
    "version": 3
   },
   "file_extension": ".py",
   "mimetype": "text/x-python",
   "name": "python",
   "nbconvert_exporter": "python",
   "pygments_lexer": "ipython3",
   "version": "3.7.9"
  }
 },
 "nbformat": 4,
 "nbformat_minor": 4
}
